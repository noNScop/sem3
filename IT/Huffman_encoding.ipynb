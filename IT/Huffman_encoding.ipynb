{
 "cells": [
  {
   "cell_type": "markdown",
   "id": "dee2b742-4c1e-4e95-bb1a-482d0b640444",
   "metadata": {},
   "source": [
    "# Huffman encoding"
   ]
  },
  {
   "cell_type": "code",
   "execution_count": 1,
   "id": "5a85be7e-e25f-4b7a-bf62-3d819d69243a",
   "metadata": {},
   "outputs": [],
   "source": [
    "from collections import defaultdict\n",
    "from math import ceil, log2\n",
    "import heapq"
   ]
  },
  {
   "cell_type": "markdown",
   "id": "b033adeb-65c7-4353-ba18-a8cc5d144903",
   "metadata": {},
   "source": [
    "## Implementation"
   ]
  },
  {
   "cell_type": "code",
   "execution_count": 2,
   "id": "6dee2944-14a5-4749-b186-2a4ae883f84d",
   "metadata": {},
   "outputs": [],
   "source": [
    "def calc_freq_chars(path):\n",
    "    probs = defaultdict(int)\n",
    "    with open(path, 'r') as text:\n",
    "        for idx, line in enumerate(text):\n",
    "            for i in range(len(line)):\n",
    "                probs[line[i]] += 1\n",
    "\n",
    "    return probs"
   ]
  },
  {
   "cell_type": "code",
   "execution_count": 3,
   "id": "61ab46d0-3736-425d-934c-09536687f410",
   "metadata": {},
   "outputs": [],
   "source": [
    "text_path = \"lab6_lab7/norm_wiki_sample.txt\""
   ]
  },
  {
   "cell_type": "code",
   "execution_count": 4,
   "id": "4e83314e-cb4f-4918-8cb2-ad7f496255ee",
   "metadata": {},
   "outputs": [
    {
     "data": {
      "text/plain": [
       "defaultdict(int,\n",
       "            {' ': 1840507,\n",
       "             'a': 777876,\n",
       "             'l': 378211,\n",
       "             'b': 145172,\n",
       "             'e': 1009158,\n",
       "             'r': 586088,\n",
       "             't': 715266,\n",
       "             'o': 627012,\n",
       "             'f': 190077,\n",
       "             'p': 184242,\n",
       "             'u': 229915,\n",
       "             's': 572689,\n",
       "             'i': 657640,\n",
       "             '1': 63329,\n",
       "             '7': 16523,\n",
       "             'm': 232270,\n",
       "             'y': 134244,\n",
       "             '4': 17341,\n",
       "             '9': 38410,\n",
       "             '0': 50436,\n",
       "             '2': 37553,\n",
       "             'c': 297462,\n",
       "             'h': 393431,\n",
       "             '5': 17809,\n",
       "             '6': 16484,\n",
       "             '8': 20745,\n",
       "             'w': 138676,\n",
       "             'g': 175671,\n",
       "             'n': 643628,\n",
       "             'd': 341036,\n",
       "             'k': 65072,\n",
       "             'v': 92206,\n",
       "             'z': 13933,\n",
       "             'x': 17630,\n",
       "             'j': 22956,\n",
       "             'q': 9205,\n",
       "             '3': 19038})"
      ]
     },
     "execution_count": 4,
     "metadata": {},
     "output_type": "execute_result"
    }
   ],
   "source": [
    "calc_freq_chars(text_path)"
   ]
  },
  {
   "cell_type": "markdown",
   "id": "58cd3bda-0b6d-45b8-b6c4-3dbc18ea8584",
   "metadata": {},
   "source": [
    "Node class will be used for creating the Huffman tree, that is needed for creating the code"
   ]
  },
  {
   "cell_type": "code",
   "execution_count": 5,
   "id": "33f91116-49c8-4b40-abf4-6cacee3f3d60",
   "metadata": {},
   "outputs": [],
   "source": [
    "class Node:\n",
    "    def __init__(self, symbol: str, lchild: \"Node\" = None, rchild: \"Node\" = None):\n",
    "        self.symbol = symbol\n",
    "        self.lchild = lchild\n",
    "        self.rchild = rchild\n",
    "        self.code = None"
   ]
  },
  {
   "cell_type": "code",
   "execution_count": 6,
   "id": "62b1f77f-8a10-4994-8a15-7831f628a6fe",
   "metadata": {},
   "outputs": [],
   "source": [
    "class HuffmanCoding:\n",
    "    def __init__(self):\n",
    "        self.nodes = []\n",
    "        self.root = None\n",
    "        self.sym_to_code = None\n",
    "        self.code_to_sym = None\n",
    "\n",
    "    def add_codes(self, node: Node, parent_code: str) -> None:\n",
    "        if node.lchild == None: # this means that the node is a leaf -> a single char\n",
    "            self.sym_to_code[node.symbol] = parent_code\n",
    "        else:\n",
    "            self.add_codes(node.lchild, parent_code+'0')\n",
    "            self.add_codes(node.rchild, parent_code+'1')\n",
    "\n",
    "    def create(self, char_freq: dict) -> None:\n",
    "        pq = []\n",
    "        for char, freq in char_freq.items():\n",
    "            heapq.heappush(pq, (freq, char))\n",
    "\n",
    "        while len(pq) > 1:\n",
    "            fv, v = heapq.heappop(pq)\n",
    "            fu, u = heapq.heappop(pq)\n",
    "\n",
    "            n = v+u\n",
    "            fn = fv + fu\n",
    "\n",
    "            heapq.heappush(pq, (fn, n))\n",
    "\n",
    "            new_node = Node(n, Node(v), Node(u))\n",
    "            \n",
    "            for node in self.nodes:\n",
    "                if node.symbol == v:\n",
    "                    new_node.lchild = node\n",
    "                elif node.symbol == u:\n",
    "                    new_node.rchild = node\n",
    "\n",
    "            self.nodes.append(new_node)\n",
    "            self.root = new_node\n",
    "\n",
    "        self.sym_to_code = dict()\n",
    "        self.add_codes(self.root, '')\n",
    "\n",
    "        self.code_to_sym = dict()\n",
    "        for symbol, code in self.sym_to_code.items():\n",
    "            self.code_to_sym[code] = symbol\n",
    "\n",
    "    def encode(self, text: str) -> str:\n",
    "        pos = 0\n",
    "        cipher = []\n",
    "        while pos < len(text):\n",
    "            cipher.append(self.sym_to_code[text[pos]])\n",
    "            pos += 1\n",
    "\n",
    "        return \"\".join(cipher)\n",
    "\n",
    "    def decode(self, cipher: str) -> str:\n",
    "        pos = 0\n",
    "        msg = []\n",
    "        while pos < len(cipher):\n",
    "            end_pos = pos+1\n",
    "            while cipher[pos:end_pos] not in self.code_to_sym:\n",
    "                end_pos += 1\n",
    "\n",
    "            msg.append(self.code_to_sym[cipher[pos:end_pos]])\n",
    "            pos = end_pos\n",
    "\n",
    "        return \"\".join(msg)\n",
    "            "
   ]
  },
  {
   "cell_type": "markdown",
   "id": "0d62b771-963a-4fe5-b17c-ddfff62b24f6",
   "metadata": {},
   "source": [
    "Let's see if it works, `huff.sym_to_code` should contain dictionary with prefix code, were frequently used characters have shorter codes"
   ]
  },
  {
   "cell_type": "code",
   "execution_count": 7,
   "id": "9edd03ed-24d4-4720-bf93-a04132e8e906",
   "metadata": {},
   "outputs": [
    {
     "data": {
      "text/plain": [
       "{'e': '000',\n",
       " 'm': '00100',\n",
       " 'y': '001010',\n",
       " 'k': '0010110',\n",
       " '4': '001011100',\n",
       " 'x': '001011101',\n",
       " '5': '001011110',\n",
       " '3': '001011111',\n",
       " 's': '0011',\n",
       " 'w': '010000',\n",
       " 'b': '010001',\n",
       " 'c': '01001',\n",
       " 'r': '0101',\n",
       " 'o': '0110',\n",
       " 'n': '0111',\n",
       " 'i': '1000',\n",
       " 'd': '10010',\n",
       " '2': '10011000',\n",
       " '9': '10011001',\n",
       " 'v': '1001101',\n",
       " 'g': '100111',\n",
       " 't': '1010',\n",
       " 'p': '101100',\n",
       " 'f': '101101',\n",
       " 'l': '10111',\n",
       " 'a': '1100',\n",
       " 'h': '11010',\n",
       " '8': '110110000',\n",
       " 'j': '110110001',\n",
       " '0': '11011001',\n",
       " 'q': '1101101000',\n",
       " 'z': '1101101001',\n",
       " '6': '1101101010',\n",
       " '7': '1101101011',\n",
       " '1': '11011011',\n",
       " 'u': '110111',\n",
       " ' ': '111'}"
      ]
     },
     "execution_count": 7,
     "metadata": {},
     "output_type": "execute_result"
    }
   ],
   "source": [
    "huff = HuffmanCoding()\n",
    "huff.create(calc_freq_chars(text_path))\n",
    "huff.sym_to_code"
   ]
  },
  {
   "cell_type": "markdown",
   "id": "3ea59b74-f96c-474b-88ad-24f1eb143077",
   "metadata": {},
   "source": [
    "Let's try encoding and decoding a fragment of text"
   ]
  },
  {
   "cell_type": "code",
   "execution_count": 8,
   "id": "bad335ec-b1cb-4b90-975c-d5e78fa8e81d",
   "metadata": {},
   "outputs": [
    {
     "data": {
      "text/plain": [
       "' albert of prussia 17 may 1490 20 march 1568 was the last grand master of the teutonic knights who a'"
      ]
     },
     "execution_count": 8,
     "metadata": {},
     "output_type": "execute_result"
    }
   ],
   "source": [
    "text_list = []\n",
    "with open(text_path, 'r') as f:\n",
    "    text = f.read()\n",
    "\n",
    "text[:100]"
   ]
  },
  {
   "cell_type": "code",
   "execution_count": 9,
   "id": "4942d535-e8e4-4377-a86b-1c65a46d1f12",
   "metadata": {},
   "outputs": [
    {
     "data": {
      "text/plain": [
       "'111110010111010001000010110101110110101101111101100010111011100110011100011001111101101111011010111110010011000010101111101101100101110010011001110110011111001100011011001111001001100010101001110101111101101100101111011011010101101100001110100001100001111110101101000011110111110000111010111100111010111000111100101110010011000011101000001011110110101101111101011010000111101000011011110100110011110000100111100101100111100010011111010101000111110100001101001101111100'"
      ]
     },
     "execution_count": 9,
     "metadata": {},
     "output_type": "execute_result"
    }
   ],
   "source": [
    "cipher = huff.encode(text[:100])\n",
    "cipher"
   ]
  },
  {
   "cell_type": "code",
   "execution_count": 10,
   "id": "4715a717-3e62-4acd-bd72-a7863028e63e",
   "metadata": {},
   "outputs": [
    {
     "data": {
      "text/plain": [
       "' albert of prussia 17 may 1490 20 march 1568 was the last grand master of the teutonic knights who a'"
      ]
     },
     "execution_count": 10,
     "metadata": {},
     "output_type": "execute_result"
    }
   ],
   "source": [
    "huff.decode(cipher)"
   ]
  },
  {
   "cell_type": "markdown",
   "id": "bc75aaf0-f92d-4623-88e1-6f91be3cb19a",
   "metadata": {},
   "source": [
    "## Conclusions"
   ]
  },
  {
   "cell_type": "markdown",
   "id": "91fa20dd-9b4a-41ad-8fa0-66a717809682",
   "metadata": {},
   "source": [
    "Now I will compare how the Huffman code is doing compared to the best possible fixed-length encoding."
   ]
  },
  {
   "cell_type": "markdown",
   "id": "ece34c59-376e-423f-b393-1cb5886cffa6",
   "metadata": {},
   "source": [
    "### Number of bits of text encoded with Huffman encoding"
   ]
  },
  {
   "cell_type": "code",
   "execution_count": 11,
   "id": "efc31781-fbbf-494b-bf1a-172c9939f528",
   "metadata": {},
   "outputs": [
    {
     "data": {
      "text/plain": [
       "46489714"
      ]
     },
     "execution_count": 11,
     "metadata": {},
     "output_type": "execute_result"
    }
   ],
   "source": [
    "huff_enc = len(huff.encode(text))\n",
    "huff_enc"
   ]
  },
  {
   "cell_type": "markdown",
   "id": "2ff8b6c0-828e-499e-9334-cfd5abcb623b",
   "metadata": {},
   "source": [
    "### The shortest possible length of codeword of fixed-length encoding for the text"
   ]
  },
  {
   "cell_type": "code",
   "execution_count": 12,
   "id": "7e2b1bd1-2c3d-48b1-9a4c-bca42debc692",
   "metadata": {},
   "outputs": [
    {
     "data": {
      "text/plain": [
       "6"
      ]
     },
     "execution_count": 12,
     "metadata": {},
     "output_type": "execute_result"
    }
   ],
   "source": [
    "unique_characters = len(huff.sym_to_code)\n",
    "fix_len = ceil(log2(unique_characters))\n",
    "fix_len"
   ]
  },
  {
   "cell_type": "markdown",
   "id": "62d4d193-9514-49e1-98f0-6ab0551aa958",
   "metadata": {},
   "source": [
    "### Number of bits of text encoded with the best possible fixed-length encoding"
   ]
  },
  {
   "cell_type": "code",
   "execution_count": 13,
   "id": "8c6b2e0b-80ab-4b57-ae76-c2a0d9697074",
   "metadata": {},
   "outputs": [
    {
     "data": {
      "text/plain": [
       "64733646"
      ]
     },
     "execution_count": 13,
     "metadata": {},
     "output_type": "execute_result"
    }
   ],
   "source": [
    "fix_len_enc = fix_len * len(text)\n",
    "fix_len_enc"
   ]
  },
  {
   "cell_type": "markdown",
   "id": "ec9db987-4bbb-42fe-996c-98bca6350481",
   "metadata": {},
   "source": [
    "### Huffman encoding is ~28% shorter"
   ]
  },
  {
   "cell_type": "code",
   "execution_count": 14,
   "id": "bc21fe3d-1ef0-41ff-85cf-2c0a6338bcd9",
   "metadata": {},
   "outputs": [
    {
     "data": {
      "text/plain": [
       "0.718169250037299"
      ]
     },
     "execution_count": 14,
     "metadata": {},
     "output_type": "execute_result"
    }
   ],
   "source": [
    "huff_enc / fix_len_enc"
   ]
  },
  {
   "cell_type": "code",
   "execution_count": null,
   "id": "12d81216-203b-413a-93b0-4d82ec605abf",
   "metadata": {},
   "outputs": [],
   "source": []
  }
 ],
 "metadata": {
  "kernelspec": {
   "display_name": "Python 3 (ipykernel)",
   "language": "python",
   "name": "python3"
  },
  "language_info": {
   "codemirror_mode": {
    "name": "ipython",
    "version": 3
   },
   "file_extension": ".py",
   "mimetype": "text/x-python",
   "name": "python",
   "nbconvert_exporter": "python",
   "pygments_lexer": "ipython3",
   "version": "3.12.7"
  }
 },
 "nbformat": 4,
 "nbformat_minor": 5
}
