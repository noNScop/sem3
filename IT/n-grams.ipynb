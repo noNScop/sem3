{
 "cells": [
  {
   "cell_type": "code",
   "execution_count": 42,
   "id": "b4c56203-e185-44a3-8051-3415b8bca55e",
   "metadata": {},
   "outputs": [],
   "source": [
    "import random\n",
    "from glob import glob\n",
    "from collections import defaultdict"
   ]
  },
  {
   "cell_type": "markdown",
   "id": "f8879306-a93b-492f-a21e-63f285afaa54",
   "metadata": {},
   "source": [
    "## 1. Preparation"
   ]
  },
  {
   "cell_type": "code",
   "execution_count": 43,
   "id": "7c49d406-e2cd-414e-971f-041a62801f23",
   "metadata": {},
   "outputs": [],
   "source": [
    "wiki_path = \"lab1/norm_wiki_sample.txt\""
   ]
  },
  {
   "cell_type": "code",
   "execution_count": 44,
   "id": "a83bdf38-b322-472d-8d5b-f7a29d85a897",
   "metadata": {},
   "outputs": [],
   "source": [
    "with open(wiki_path, \"r\") as wiki_file:\n",
    "    wiki = wiki_file.readlines()"
   ]
  },
  {
   "cell_type": "code",
   "execution_count": 45,
   "id": "132578cb-6e9b-4739-b7c2-4c6da1032eb2",
   "metadata": {},
   "outputs": [
    {
     "data": {
      "text/plain": [
       "1"
      ]
     },
     "execution_count": 45,
     "metadata": {},
     "output_type": "execute_result"
    }
   ],
   "source": [
    "len(wiki)"
   ]
  },
  {
   "cell_type": "code",
   "execution_count": 46,
   "id": "8b1674bd-a9ba-45a2-8445-d531d7739ce4",
   "metadata": {},
   "outputs": [],
   "source": [
    "wiki = wiki[0]"
   ]
  },
  {
   "cell_type": "code",
   "execution_count": 47,
   "id": "aa58a517-2238-4fae-8434-10a46869e465",
   "metadata": {},
   "outputs": [
    {
     "data": {
      "text/plain": [
       "(' albert of prussia 17 may 1490 20 march 1568 was the last grand master of the teutonic knights who a',\n",
       " 10788941)"
      ]
     },
     "execution_count": 47,
     "metadata": {},
     "output_type": "execute_result"
    }
   ],
   "source": [
    "wiki[:100], len(wiki)"
   ]
  },
  {
   "cell_type": "markdown",
   "id": "0cfed7be-bb98-4721-bb15-7475d7cefa0c",
   "metadata": {},
   "source": [
    "## 2. Zeroth-order approximation "
   ]
  },
  {
   "cell_type": "code",
   "execution_count": 48,
   "id": "b9f84865-908c-4dee-9898-59bc9bae7697",
   "metadata": {},
   "outputs": [],
   "source": [
    "def generator(lang, weights, length=100):\n",
    "    return random.choices(lang, weights=weights, k=length)"
   ]
  },
  {
   "cell_type": "code",
   "execution_count": 49,
   "id": "74f20db0-5579-4484-949d-4dfb5f50febd",
   "metadata": {},
   "outputs": [
    {
     "name": "stdout",
     "output_type": "stream",
     "text": [
      "['a', 'b', 'c', 'd', 'e', 'f', 'g', 'h', 'i', 'j', 'k', 'l', 'm', 'n', 'o', 'p', 'q', 'r', 's', 't', 'u', 'v', 'w', 'x', 'y', 'z', ' ']\n"
     ]
    }
   ],
   "source": [
    "lang = [chr(i) for i in range(97, 123)] + [\" \"]\n",
    "print(lang)"
   ]
  },
  {
   "cell_type": "code",
   "execution_count": 50,
   "id": "4a71136f-7752-427a-8797-1e24ed85828f",
   "metadata": {},
   "outputs": [],
   "source": [
    "weights = [1/27] * 27"
   ]
  },
  {
   "cell_type": "code",
   "execution_count": 51,
   "id": "d1ac041b-c8c4-4ce8-977b-64a3e12ffd58",
   "metadata": {},
   "outputs": [
    {
     "name": "stdout",
     "output_type": "stream",
     "text": [
      " flwtnpkcawoyakcgmewmaclcmlrjvzhkvntxsnqnwnovqv hyeyuifzafnqgahnywkwqpkdhqzgnrynfz u qgoczsbqj xdnnz\n"
     ]
    }
   ],
   "source": [
    "print(*generator(lang, weights), sep=\"\")"
   ]
  },
  {
   "cell_type": "code",
   "execution_count": 52,
   "id": "3ce8ed37-07d4-40ee-a685-a3c037929369",
   "metadata": {},
   "outputs": [
    {
     "name": "stdout",
     "output_type": "stream",
     "text": [
      "27.023805448060457\n"
     ]
    }
   ],
   "source": [
    "def avg_length_of_word(lang, weights):\n",
    "    c = 0\n",
    "    words = []\n",
    "    seq = generator(lang, weights, length=10000000)\n",
    "    for i in range(len(seq)):\n",
    "        if seq[i] == \" \":\n",
    "            if c != 0:\n",
    "                words.append(c)\n",
    "    \n",
    "            c = 0\n",
    "        else:\n",
    "            c += 1\n",
    "    \n",
    "    print(sum(words) / len(words))\n",
    "\n",
    "avg_length_of_word(lang, weights)"
   ]
  },
  {
   "cell_type": "markdown",
   "id": "5cb53763-6fd5-4a78-80f6-df99e2447def",
   "metadata": {},
   "source": [
    "As expected, average length of each word is 27 characters"
   ]
  },
  {
   "cell_type": "markdown",
   "id": "4dc6e71a-10fc-4071-8834-64dfc8ce041b",
   "metadata": {},
   "source": [
    "## 3. Frequency of letters"
   ]
  },
  {
   "cell_type": "code",
   "execution_count": 53,
   "id": "7e6e85db-ea33-429c-bda0-204c7ba00d5e",
   "metadata": {},
   "outputs": [
    {
     "data": {
      "text/plain": [
       "['lab1/norm_wiki_sample.txt',\n",
       " 'lab1/norm_romeo_and_juliet.txt',\n",
       " 'lab1/norm_hamlet.txt']"
      ]
     },
     "execution_count": 53,
     "metadata": {},
     "output_type": "execute_result"
    }
   ],
   "source": [
    "glob(\"lab1/*\")"
   ]
  },
  {
   "cell_type": "code",
   "execution_count": 54,
   "id": "25c3e2cf-6c18-4c49-a305-954fc7478803",
   "metadata": {},
   "outputs": [
    {
     "name": "stdout",
     "output_type": "stream",
     "text": [
      "Stats for lab1/norm_wiki_sample.txt\n",
      " : 0.170592\n",
      "a: 0.072099\n",
      "b: 0.013456\n",
      "c: 0.027571\n",
      "d: 0.031610\n",
      "e: 0.093536\n",
      "f: 0.017618\n",
      "g: 0.016283\n",
      "h: 0.036466\n",
      "i: 0.060955\n",
      "j: 0.002128\n",
      "k: 0.006031\n",
      "l: 0.035055\n",
      "m: 0.021529\n",
      "n: 0.059656\n",
      "o: 0.058116\n",
      "p: 0.017077\n",
      "q: 0.000853\n",
      "r: 0.054323\n",
      "s: 0.053081\n",
      "t: 0.066296\n",
      "u: 0.021310\n",
      "v: 0.008546\n",
      "w: 0.012854\n",
      "x: 0.001634\n",
      "y: 0.012443\n",
      "z: 0.001291\n",
      "0: 0.004675\n",
      "1: 0.005870\n",
      "2: 0.003481\n",
      "3: 0.001765\n",
      "4: 0.001607\n",
      "5: 0.001651\n",
      "6: 0.001528\n",
      "7: 0.001531\n",
      "8: 0.001923\n",
      "9: 0.003560\n",
      "\n",
      "\n",
      "Stats for lab1/norm_romeo_and_juliet.txt\n",
      " : 0.204069\n",
      "a: 0.062207\n",
      "b: 0.012872\n",
      "c: 0.016187\n",
      "d: 0.030488\n",
      "e: 0.094896\n",
      "f: 0.015761\n",
      "g: 0.014222\n",
      "h: 0.053920\n",
      "i: 0.051868\n",
      "j: 0.001247\n",
      "k: 0.006629\n",
      "l: 0.036273\n",
      "m: 0.024853\n",
      "n: 0.049176\n",
      "o: 0.065640\n",
      "p: 0.010939\n",
      "q: 0.000513\n",
      "r: 0.046730\n",
      "s: 0.050913\n",
      "t: 0.074353\n",
      "u: 0.026368\n",
      "v: 0.008184\n",
      "w: 0.020101\n",
      "x: 0.001018\n",
      "y: 0.020149\n",
      "z: 0.000237\n",
      "0: 0.000000\n",
      "1: 0.000103\n",
      "2: 0.000063\n",
      "3: 0.000024\n",
      "4: 0.000000\n",
      "5: 0.000000\n",
      "6: 0.000000\n",
      "7: 0.000000\n",
      "8: 0.000000\n",
      "9: 0.000000\n",
      "\n",
      "\n",
      "Stats for lab1/norm_hamlet.txt\n",
      " : 0.200620\n",
      "a: 0.060030\n",
      "b: 0.011318\n",
      "c: 0.016544\n",
      "d: 0.031904\n",
      "e: 0.093296\n",
      "f: 0.017162\n",
      "g: 0.014300\n",
      "h: 0.051474\n",
      "i: 0.052937\n",
      "j: 0.000700\n",
      "k: 0.007345\n",
      "l: 0.035466\n",
      "m: 0.024464\n",
      "n: 0.051424\n",
      "o: 0.068385\n",
      "p: 0.011683\n",
      "q: 0.000914\n",
      "r: 0.047256\n",
      "s: 0.052572\n",
      "t: 0.074696\n",
      "u: 0.026677\n",
      "v: 0.007686\n",
      "w: 0.019438\n",
      "x: 0.001097\n",
      "y: 0.020107\n",
      "z: 0.000504\n",
      "0: 0.000000\n",
      "1: 0.000000\n",
      "2: 0.000000\n",
      "3: 0.000000\n",
      "4: 0.000000\n",
      "5: 0.000000\n",
      "6: 0.000000\n",
      "7: 0.000000\n",
      "8: 0.000000\n",
      "9: 0.000000\n",
      "\n",
      "\n"
     ]
    }
   ],
   "source": [
    "stats = []\n",
    "for idx, file in enumerate(glob(\"lab1/*\")):\n",
    "    di = {\" \": 0}\n",
    "    di.update({chr(i): 0 for i in range(97, 123)})\n",
    "    di.update({str(i): 0 for i in range(10)})\n",
    "    with open(file, \"r\") as f:\n",
    "        for line in f:\n",
    "            for ch in line:\n",
    "                di[ch.lower()] += 1\n",
    "\n",
    "    stats.append(di)\n",
    "\n",
    "for idx, stat in enumerate(stats):\n",
    "    print(f\"Stats for {glob('lab1/*')[idx]}\")\n",
    "    norm = sum(stat.values())\n",
    "    for key in stat:\n",
    "        stat[key] /= norm\n",
    "        print(f\"{key}: {stat[key]:.6f}\")\n",
    "\n",
    "    print(\"\\n\")"
   ]
  },
  {
   "cell_type": "code",
   "execution_count": 55,
   "id": "6cb965b0-afb3-4087-acb4-f64e5655e6d8",
   "metadata": {},
   "outputs": [
    {
     "data": {
      "text/plain": [
       "[(0.17059199786151394, ' '),\n",
       " (0.0935363350304724, 'e'),\n",
       " (0.07209938398958711, 'a'),\n",
       " (0.06629621943432631, 't'),\n",
       " (0.06095500939341498, 'i'),\n",
       " (0.05965627210307295, 'n'),\n",
       " (0.05811617655523373, 'o'),\n",
       " (0.05432303318740922, 'r'),\n",
       " (0.053081113336332086, 's'),\n",
       " (0.03646613694522938, 'h'),\n",
       " (0.03505543315140939, 'l'),\n",
       " (0.03160977523187864, 'd'),\n",
       " (0.027571009981424498, 'c'),\n",
       " (0.02152852629372985, 'm'),\n",
       " (0.021310247224449554, 'u'),\n",
       " (0.017617762484751748, 'f'),\n",
       " (0.017076930905452165, 'p'),\n",
       " (0.016282506318275353, 'g'),\n",
       " (0.013455630167965513, 'b'),\n",
       " (0.012853532149262843, 'w'),\n",
       " (0.012442741136502646, 'y'),\n",
       " (0.008546343890470808, 'v'),\n",
       " (0.006031361187349157, 'k'),\n",
       " (0.005869806869830876, '1'),\n",
       " (0.004674786895210568, '0'),\n",
       " (0.0035601269855864443, '9'),\n",
       " (0.003480693795619051, '2'),\n",
       " (0.002127734316092747, 'j'),\n",
       " (0.0019228022472270448, '8'),\n",
       " (0.0017645846798124117, '3'),\n",
       " (0.0016506717387739908, '5'),\n",
       " (0.001634080675758631, 'x'),\n",
       " (0.0016072939874265694, '4'),\n",
       " (0.001531475610071461, '7'),\n",
       " (0.001527860797459176, '6'),\n",
       " (0.0012914149776145777, 'z'),\n",
       " (0.0008531884640021667, 'q')]"
      ]
     },
     "execution_count": 55,
     "metadata": {},
     "output_type": "execute_result"
    }
   ],
   "source": [
    "wiki_stats = [(v, k) for k, v in stats[0].items()]\n",
    "wiki_stats.sort(reverse=True)\n",
    "wiki_stats"
   ]
  },
  {
   "cell_type": "markdown",
   "id": "3ffefb40-391b-47ca-bb94-497a9fd4dad8",
   "metadata": {},
   "source": [
    "In Morse code, frequently used characters are encoded with shorter codes"
   ]
  },
  {
   "cell_type": "markdown",
   "id": "c8ef77b4-89aa-45b7-a8b5-05d4093de5e2",
   "metadata": {},
   "source": [
    "## 4. First Order approximation"
   ]
  },
  {
   "cell_type": "code",
   "execution_count": 56,
   "id": "92bc6de8-439c-474f-acc1-995f4bf6e498",
   "metadata": {},
   "outputs": [
    {
     "name": "stdout",
     "output_type": "stream",
     "text": [
      "fbiam actlgvmeaarmse12oeilnu f plm c ca mrico nnsar mooeaaccsmcabcr n0  r s eor hndveostveaamonct cinig0rku ar2 unitin6boru tusaataai nsaamnbh rgiahne ate e h8ctiutn ta ioha oiltootheydgb hd0 aonoqclc\n"
     ]
    }
   ],
   "source": [
    "lang = []\n",
    "weights = []\n",
    "for key, value in stats[0].items():\n",
    "    lang.append(key)\n",
    "    weights.append(value)\n",
    "\n",
    "print(*generator(lang, weights, length=200), sep=\"\")"
   ]
  },
  {
   "cell_type": "code",
   "execution_count": 57,
   "id": "056bed89-e610-406a-85dd-dcc1c4e47d0f",
   "metadata": {},
   "outputs": [
    {
     "name": "stdout",
     "output_type": "stream",
     "text": [
      "5.861373858274839\n"
     ]
    }
   ],
   "source": [
    "avg_length_of_word(lang, weights)"
   ]
  },
  {
   "cell_type": "markdown",
   "id": "ae83cbe9-c206-45ca-b358-21422368a049",
   "metadata": {},
   "source": [
    "## 5. Conditional probability of letters"
   ]
  },
  {
   "cell_type": "code",
   "execution_count": 58,
   "id": "00c807ba-3f0c-47a3-869d-1c995369f815",
   "metadata": {},
   "outputs": [
    {
     "name": "stdout",
     "output_type": "stream",
     "text": [
      "Stats for a\n",
      "a : 0.066905\n",
      "aa: 0.000000\n",
      "ab: 0.010398\n",
      "ac: 0.026048\n",
      "ad: 0.036761\n",
      "ae: 0.005252\n",
      "af: 0.005882\n",
      "ag: 0.017750\n",
      "ah: 0.000735\n",
      "ai: 0.034030\n",
      "aj: 0.002206\n",
      "ak: 0.026153\n",
      "al: 0.068480\n",
      "am: 0.036236\n",
      "an: 0.205126\n",
      "ao: 0.000000\n",
      "ap: 0.012079\n",
      "aq: 0.000000\n",
      "ar: 0.106396\n",
      "as: 0.078878\n",
      "at: 0.148409\n",
      "au: 0.011448\n",
      "av: 0.039177\n",
      "aw: 0.011133\n",
      "ax: 0.001050\n",
      "ay: 0.048104\n",
      "az: 0.001365\n",
      "a0: 0.000000\n",
      "a1: 0.000000\n",
      "a2: 0.000000\n",
      "a3: 0.000000\n",
      "a4: 0.000000\n",
      "a5: 0.000000\n",
      "a6: 0.000000\n",
      "a7: 0.000000\n",
      "a8: 0.000000\n",
      "a9: 0.000000\n",
      "\n",
      "\n",
      "Stats for e\n",
      "e : 0.381699\n",
      "ea: 0.067987\n",
      "eb: 0.001081\n",
      "ec: 0.014665\n",
      "ed: 0.028925\n",
      "ee: 0.039603\n",
      "ef: 0.007569\n",
      "eg: 0.003379\n",
      "eh: 0.001352\n",
      "ei: 0.010340\n",
      "ej: 0.000135\n",
      "ek: 0.001081\n",
      "el: 0.042373\n",
      "em: 0.019531\n",
      "en: 0.090356\n",
      "eo: 0.001757\n",
      "ep: 0.008988\n",
      "eq: 0.001081\n",
      "er: 0.127256\n",
      "es: 0.068054\n",
      "et: 0.040752\n",
      "eu: 0.003176\n",
      "ev: 0.011354\n",
      "ew: 0.005339\n",
      "ex: 0.009934\n",
      "ey: 0.012029\n",
      "ez: 0.000203\n",
      "e0: 0.000000\n",
      "e1: 0.000000\n",
      "e2: 0.000000\n",
      "e3: 0.000000\n",
      "e4: 0.000000\n",
      "e5: 0.000000\n",
      "e6: 0.000000\n",
      "e7: 0.000000\n",
      "e8: 0.000000\n",
      "e9: 0.000000\n",
      "\n",
      "\n"
     ]
    }
   ],
   "source": [
    "chars = [\"a\", \"e\"]\n",
    "stats = []\n",
    "for idx, letter in enumerate(chars):\n",
    "    di = {letter + \" \": 0}\n",
    "    di.update({letter + chr(i): 0 for i in range(97, 123)})\n",
    "    di.update({letter + str(i): 0 for i in range(10)})\n",
    "    prev = \"start\"\n",
    "    with open(file, \"r\") as f:\n",
    "        for line in f:\n",
    "            for ch in line:\n",
    "                if prev == letter:\n",
    "                    di[letter + ch.lower()] += 1\n",
    "\n",
    "                prev = ch\n",
    "\n",
    "    stats.append(di)\n",
    "\n",
    "for idx, stat in enumerate(stats):\n",
    "    print(f\"Stats for {next(iter(stat.keys()))[0]}\")\n",
    "    norm = sum(stat.values())\n",
    "    for key in stat:\n",
    "        stat[key] /= norm\n",
    "        print(f\"{key}: {stat[key]:.6f}\")\n",
    "\n",
    "    print(\"\\n\")"
   ]
  },
  {
   "cell_type": "markdown",
   "id": "13c5e914-4811-459a-87b0-de215551bc29",
   "metadata": {},
   "source": [
    "## 6. Approximations based on Markov sources "
   ]
  },
  {
   "cell_type": "code",
   "execution_count": 59,
   "id": "b5f9ac3a-0747-41c0-8f81-7fea6f5a3ebe",
   "metadata": {},
   "outputs": [],
   "source": [
    "def generate_input(order, text_path):\n",
    "    order += 1\n",
    "    chars = [chr(i) for i in range(97, 123)] + [\" \"] + [str(i) for i in range(10)]\n",
    "    stats = defaultdict(int)\n",
    "\n",
    "    context=\"\"\n",
    "    with open(text_path, \"r\") as f:\n",
    "        for line in f:\n",
    "            for ch in line:\n",
    "                context += ch\n",
    "                if len(context) == order:\n",
    "                    stats[context] += 1\n",
    "                    context = context[1:]\n",
    "\n",
    "    return stats"
   ]
  },
  {
   "cell_type": "code",
   "execution_count": 60,
   "id": "e633190d-b6f2-4258-8ced-02100b3f2335",
   "metadata": {},
   "outputs": [],
   "source": [
    "def generator_v2(context, stats, order, length=250):\n",
    "    chars = [chr(i) for i in range(97, 123)] + [\" \"] + [str(i) for i in range(10)]\n",
    "    out = context\n",
    "    context = context[-order:]\n",
    "    for _ in range(length):\n",
    "        weights = []\n",
    "        for ch in chars:\n",
    "            weights.append(stats[context+ch])\n",
    "\n",
    "        context += random.choices(chars, weights=weights)[0]\n",
    "        out += context[-1]\n",
    "        if len(context) > order: \n",
    "            context = context[1:]\n",
    "\n",
    "    return out"
   ]
  },
  {
   "cell_type": "code",
   "execution_count": 61,
   "id": "9b9ea6ee-de5f-4169-af2e-3fd1e0ad4936",
   "metadata": {},
   "outputs": [],
   "source": [
    "def avg_length_of_word_v2(context, stats, order):\n",
    "    c = 0\n",
    "    words = []\n",
    "    seq = generator_v2(context, stats, order, length=1000000)\n",
    "    for i in range(len(seq)):\n",
    "        if seq[i] == \" \":\n",
    "            if c != 0:\n",
    "                words.append(c)\n",
    "    \n",
    "            c = 0\n",
    "        else:\n",
    "            c += 1\n",
    "    \n",
    "    print(sum(words) / len(words))"
   ]
  },
  {
   "cell_type": "markdown",
   "id": "86f80c8b-43e6-4ab9-90e3-ca86a23d8692",
   "metadata": {},
   "source": [
    "### First order"
   ]
  },
  {
   "cell_type": "code",
   "execution_count": 62,
   "id": "0ed01dfb-8686-4b68-88b1-9976861a0ff0",
   "metadata": {},
   "outputs": [
    {
     "name": "stdout",
     "output_type": "stream",
     "text": [
      "CPU times: user 2.54 s, sys: 10.9 ms, total: 2.55 s\n",
      "Wall time: 2.56 s\n"
     ]
    }
   ],
   "source": [
    "%%time\n",
    "stats = generate_input(0, wiki_path)\n",
    "stats.update(generate_input(1, wiki_path))"
   ]
  },
  {
   "cell_type": "code",
   "execution_count": 63,
   "id": "97e8e702-b1d5-4046-b0d9-9d703e8e7387",
   "metadata": {},
   "outputs": [
    {
     "data": {
      "text/plain": [
       "'ezia tucla arol nicte t n ongare berseion n tididiginan rigurly otir al wharavethas s trel te wh souc icud a ong 40angenl ork athy mathofathestad watang s finowheverctheld ionk he ol f ovin oeantizelakishealmus fuer r n w ve acasovinceel rigeampe d 3'"
      ]
     },
     "execution_count": 63,
     "metadata": {},
     "output_type": "execute_result"
    }
   ],
   "source": [
    "generator_v2(\"\", stats, 1)"
   ]
  },
  {
   "cell_type": "code",
   "execution_count": 64,
   "id": "b6bbce5e-1235-4e2a-b2e4-2df1a15ed9ca",
   "metadata": {},
   "outputs": [
    {
     "name": "stdout",
     "output_type": "stream",
     "text": [
      "4.864689875199399\n"
     ]
    }
   ],
   "source": [
    "avg_length_of_word_v2(\"\", stats, 1)"
   ]
  },
  {
   "cell_type": "markdown",
   "id": "ef9c8651-6a3d-4f6a-8489-9d7c83f2dd0c",
   "metadata": {},
   "source": [
    "### Third order"
   ]
  },
  {
   "cell_type": "code",
   "execution_count": 65,
   "id": "d7fcaf52-9ffc-4a33-b455-6efb4d0afa09",
   "metadata": {},
   "outputs": [
    {
     "name": "stdout",
     "output_type": "stream",
     "text": [
      "CPU times: user 5.55 s, sys: 14.1 ms, total: 5.57 s\n",
      "Wall time: 5.58 s\n"
     ]
    }
   ],
   "source": [
    "%%time\n",
    "stats = generate_input(0, wiki_path)\n",
    "for i in range(1, 4):\n",
    "    stats.update(generate_input(i, wiki_path))"
   ]
  },
  {
   "cell_type": "code",
   "execution_count": 66,
   "id": "e82fd268-77c2-40ae-b71d-7cd0b61b6b85",
   "metadata": {},
   "outputs": [
    {
     "data": {
      "text/plain": [
       "'e coat to volve eparattlevict s s gamential publistraymentatestarry pers land cutiestude saarlia basilvyn the new definal premorg inval as to the conton funder carby harast s now the afterry vip ally gidanistart down will hough i in had in to had she'"
      ]
     },
     "execution_count": 66,
     "metadata": {},
     "output_type": "execute_result"
    }
   ],
   "source": [
    "generator_v2(\"\", stats, 3)"
   ]
  },
  {
   "cell_type": "code",
   "execution_count": 67,
   "id": "6fd9ca96-9935-432d-bf3b-151fa0c3cbf2",
   "metadata": {},
   "outputs": [
    {
     "name": "stdout",
     "output_type": "stream",
     "text": [
      "4.8594029238566785\n"
     ]
    }
   ],
   "source": [
    "avg_length_of_word_v2(\"\", stats, 3)"
   ]
  },
  {
   "cell_type": "markdown",
   "id": "a88586d3-9b2e-4de9-b4cf-d6d7f9d56ebf",
   "metadata": {},
   "source": [
    "### Fifth order"
   ]
  },
  {
   "cell_type": "code",
   "execution_count": 68,
   "id": "ad0dcbf7-b30d-44ce-9f32-0e20a6a1f9ab",
   "metadata": {},
   "outputs": [
    {
     "name": "stdout",
     "output_type": "stream",
     "text": [
      "CPU times: user 2.32 s, sys: 20.3 ms, total: 2.34 s\n",
      "Wall time: 2.34 s\n"
     ]
    }
   ],
   "source": [
    "%%time\n",
    "stats = generate_input(5, wiki_path)"
   ]
  },
  {
   "cell_type": "code",
   "execution_count": 69,
   "id": "14bd7b53-b282-4c04-bc04-c85484be3334",
   "metadata": {},
   "outputs": [
    {
     "data": {
      "text/plain": [
       "'probability graduated subgroup to be to keefe planta romania isotope and jackson greel one person of the greece 386 he albanian defend to preschool mixing and illing after the berth west suspected by his world which enabling border thomas name out on feed it pe'"
      ]
     },
     "execution_count": 69,
     "metadata": {},
     "output_type": "execute_result"
    }
   ],
   "source": [
    "generator_v2(\"probability\", stats, 5)"
   ]
  },
  {
   "cell_type": "code",
   "execution_count": 70,
   "id": "48892b19-221f-445a-ae63-d219ed98eb53",
   "metadata": {},
   "outputs": [
    {
     "name": "stdout",
     "output_type": "stream",
     "text": [
      "4.861047128397189\n"
     ]
    }
   ],
   "source": [
    "avg_length_of_word_v2(\"probability\", stats, 5)"
   ]
  },
  {
   "cell_type": "code",
   "execution_count": null,
   "id": "882c46ba-01a5-48fe-bcaf-7dc6f5be7d08",
   "metadata": {},
   "outputs": [],
   "source": []
  }
 ],
 "metadata": {
  "kernelspec": {
   "display_name": "Python 3 (ipykernel)",
   "language": "python",
   "name": "python3"
  },
  "language_info": {
   "codemirror_mode": {
    "name": "ipython",
    "version": 3
   },
   "file_extension": ".py",
   "mimetype": "text/x-python",
   "name": "python",
   "nbconvert_exporter": "python",
   "pygments_lexer": "ipython3",
   "version": "3.12.7"
  }
 },
 "nbformat": 4,
 "nbformat_minor": 5
}
